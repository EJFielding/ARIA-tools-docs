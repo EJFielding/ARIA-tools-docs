{
 "cells": [
  {
   "cell_type": "markdown",
   "metadata": {},
   "source": [
    "# Coseismic modelling with Pyrocko using ARIA products\n",
    "\n",
    "**Author**: David Bekaert - Jet Propulsion Laboratory, \n",
    "            Marius Isken - Geoforschungszentrum Potsdam \n",
    "\n",
    "This notebook demonstrates how the Sentinel 1 ARIA Geocoded UNWrapped interferogram (**GUNW**) products can be used for geophysical modelling using the **Pyrocko** package. We will demonstrate how to:\n",
    "- Download ARIA standard products covering the Ridgecrest Earthquake\n",
    "- Extract the data and meta layers needed for Pyrocko\n",
    "- Perform inverse modeling to solve fault slip using Pyrocko\n",
    "\n",
    "A detailed overview of the ARIA GUNW product with respect to processing, formatting, sampling, and data layers can be found on the [ARIA website](https://aria.jpl.nasa.gov/node/97). \n",
    "\n",
    "**Pyrocko** is a geophysical modelling package for geodetic and sesimological data. It includes various downsampling methods and covariance estimation for InSAR data, and supports joint inversion modelling of InSAR and GNSS observations in a Bayesian framework. A full description can be found on the [Pyrocko website](https://pyrocko.org). \n",
    "\n",
    "\n",
    "<div class=\"alert alert-warning\">\n",
    "<b>Potential errors:</b>\n",
    "Both Pyrocko and ARIA-tools needs to be installed to run this notebook.\n",
    "</div>\n",
    "\n",
    "<div class=\"alert alert-danger\">\n",
    "<b>Download</b>:     \n",
    "    \n",
    "- The ***jupyter notebook* does not allow for interactive entering of your user-name and password, use the *jupyter terminal* instead** with the same command for interactive use.\n",
    "</div>"
   ]
  },
  {
   "cell_type": "markdown",
   "metadata": {},
   "source": [
    "## Overview of the dataset"
   ]
  },
  {
   "cell_type": "markdown",
   "metadata": {},
   "source": [
    "In this notebook we will invert for fault slip as a result from the ridgecrest earthquake. \n"
   ]
  },
  {
   "cell_type": "code",
   "execution_count": null,
   "metadata": {},
   "outputs": [],
   "source": [
    "!ariaDownload.py"
   ]
  },
  {
   "cell_type": "markdown",
   "metadata": {},
   "source": [
    "## 1. Example of ariaDownload output options"
   ]
  },
  {
   "cell_type": "markdown",
   "metadata": {},
   "source": [
    "The user has the option to **download**, **count**, and generate a **kmz** corresponding to return of their search criteria. Below we provide example for each of these over Track 4."
   ]
  },
  {
   "cell_type": "markdown",
   "metadata": {
    "heading_collapsed": true
   },
   "source": [
    "### Count the number of products"
   ]
  },
  {
   "cell_type": "markdown",
   "metadata": {
    "hidden": true
   },
   "source": [
    "To get a count of the number of products, without downloading data, provide the **`--output`** option with the **`count`** argument. To get information on the exact product filenames also include the verbose option **`-v`**."
   ]
  },
  {
   "cell_type": "code",
   "execution_count": null,
   "metadata": {
    "hidden": true
   },
   "outputs": [],
   "source": [
    "!ariaDownload.py --track 4 --output count"
   ]
  },
  {
   "cell_type": "markdown",
   "metadata": {
    "heading_collapsed": true
   },
   "source": [
    "### Generate KMZ of products"
   ]
  },
  {
   "cell_type": "markdown",
   "metadata": {
    "hidden": true
   },
   "source": [
    "To generate a Google Earth kmz, without downloading data, provide the **`--output`** option with the **`kmz`** argument. In case you also want to get information on the exact product filenames you can enbale the verbose option by adding **`-v`**. The result is shown in **Fig. 1**."
   ]
  },
  {
   "cell_type": "code",
   "execution_count": null,
   "metadata": {
    "hidden": true
   },
   "outputs": [],
   "source": [
    "!ariaDownload.py --track 4 --output kmz"
   ]
  },
  {
   "cell_type": "markdown",
   "metadata": {
    "hidden": true
   },
   "source": [
    "<img src=\"./support_docs/track_004.png\" alt=\"track\" width=\"700\">\n",
    "<center><b>Fig. 1</b> Image of products available along Track 4. </center>"
   ]
  },
  {
   "cell_type": "markdown",
   "metadata": {
    "heading_collapsed": true
   },
   "source": [
    "### Download products"
   ]
  },
  {
   "cell_type": "markdown",
   "metadata": {
    "hidden": true
   },
   "source": [
    "To download the products, simply omit the **`--output`** option or specify it with the **`download`** argument. Examples for downloading all data on track 4 include:\n",
    "\n",
    "`ariaDownload.py -t 004`\n",
    "\n",
    "`ariaDownload.py -t 004 -o download`\n",
    "\n",
    "\n",
    "By default, the products will be downloaded into the *./products* folder. You can specify a different location using the **`-w`** option, such as:\n",
    "\n",
    "`ariaDownload.py -t 004 -w /insarHome`\n",
    "\n",
    "<div class=\"alert alert-warning\">\n",
    "<b>Potential download failure:</b>\n",
    "GUNW products are hosted at the NASA ASF DAAC. Downloading them requires a NASA Earthdata URS user login and requires users to add “ARIA Product Search” to their URS approved applications\n",
    "</div>"
   ]
  },
  {
   "cell_type": "markdown",
   "metadata": {},
   "source": [
    "## 2. Spatial-temporal subsetting"
   ]
  },
  {
   "cell_type": "markdown",
   "metadata": {},
   "source": [
    "The **`ariaDownload.py`** program has a number of options availble for subsetting the search of products in the spatial and temporal domain, including **bounding box**, **start/end date**, **aquisition geometry**, **temporal baseline**, or **interferogram** options. Below, using the count option for brevity, we demonstrate each of them."
   ]
  },
  {
   "cell_type": "markdown",
   "metadata": {},
   "source": [
    "### Subsetting by Bounding Box"
   ]
  },
  {
   "cell_type": "markdown",
   "metadata": {},
   "source": [
    "Bounding box can either be specified as **SNWE** coordinates (a string with quotation) or by providing a **shapefile** (GeoJSON or ESRI shapefiles) to the **`--bbox`** option. \n",
    "\n",
    "An example based on subsetting using **SNWE** coordinates and the corresponding kmz is shown in **Fig. 2**:"
   ]
  },
  {
   "cell_type": "code",
   "execution_count": null,
   "metadata": {},
   "outputs": [],
   "source": [
    "!ariaDownload.py --track 4 --bbox \"36.75 37.225 -76.655 -75.928\" -o count"
   ]
  },
  {
   "cell_type": "markdown",
   "metadata": {},
   "source": [
    "<img src=\"./support_docs/crop_hr.png\" alt=\"crop\" width=\"700\">\n",
    "\n",
    "<center><b>Fig. 2</b> Image of products available along within bounding box 36.75S, 37.225N, -76.655W, -75.928E</center>"
   ]
  },
  {
   "cell_type": "markdown",
   "metadata": {},
   "source": [
    "An example based on subsetting using a shape file:"
   ]
  },
  {
   "cell_type": "code",
   "execution_count": null,
   "metadata": {},
   "outputs": [],
   "source": [
    "!ariaDownload.py --track 4 --bbox './support_docs/HR_North.shp' -o count"
   ]
  },
  {
   "cell_type": "markdown",
   "metadata": {},
   "source": [
    "<img src=\"./support_docs/crop_shp.png\" alt=\"crop\" width=\"700\">\n",
    "\n",
    "<center><b>Fig. 3</b> Image of products available along within shapefile (blue shading). </center>"
   ]
  },
  {
   "cell_type": "markdown",
   "metadata": {},
   "source": [
    "### Subsetting by start/end date"
   ]
  },
  {
   "cell_type": "markdown",
   "metadata": {},
   "source": [
    "Subsetting in time can be done by specifying a range within which products need to fall. This is controlled using the **`--start YYYYMMDD` ** and **`--end YYYYMMDD`** options. By default the complete observational record is considered."
   ]
  },
  {
   "cell_type": "code",
   "execution_count": null,
   "metadata": {},
   "outputs": [],
   "source": [
    "!ariaDownload.py --track 4 --bbox \"36.75 37.225 -76.655 -75.928\" -o count --start 20190101 "
   ]
  },
  {
   "cell_type": "code",
   "execution_count": null,
   "metadata": {},
   "outputs": [],
   "source": [
    "!ariaDownload.py --track 4 --bbox \"36.75 37.225 -76.655 -75.928\" -o count -s 20190101  --end 20190401 --verbose"
   ]
  },
  {
   "cell_type": "markdown",
   "metadata": {},
   "source": [
    "Note the use of the **`--verbose`** option to show the products found."
   ]
  },
  {
   "cell_type": "markdown",
   "metadata": {},
   "source": [
    "### Subsetting based on product temporal baseline"
   ]
  },
  {
   "cell_type": "markdown",
   "metadata": {},
   "source": [
    "The **`--daysless`** and **`--daysmore`** options allow us to subset based on the temporal baseline, i.e. the time length (in days) between the reference and secondary SAR acquisitions of the interferogram. Note that `--daysless 12` and `--daysmore 12` specifies only pairs with temporal baselines smaller and larger than 12 (so not exactly separated by 12) are downloaded, respectively.\n",
    "\n",
    "To select only interferograms products with temporal baselines shorter than 13 days:"
   ]
  },
  {
   "cell_type": "code",
   "execution_count": null,
   "metadata": {},
   "outputs": [],
   "source": [
    "!ariaDownload.py --track 4 --bbox \"36.75 37.225 -76.655 -75.928\" -o count --daysless 13 -v"
   ]
  },
  {
   "cell_type": "markdown",
   "metadata": {},
   "source": [
    "Select only pairs with temporal baselines, greater than a year:"
   ]
  },
  {
   "cell_type": "code",
   "execution_count": null,
   "metadata": {},
   "outputs": [],
   "source": [
    "!ariaDownload.py --track 4 --bbox \"36.75 37.225 -76.655 -75.928\" -o count --daysmore 364"
   ]
  },
  {
   "cell_type": "markdown",
   "metadata": {},
   "source": [
    "Select only pairs with moderate temporal baselines between two and six months:"
   ]
  },
  {
   "cell_type": "code",
   "execution_count": null,
   "metadata": {},
   "outputs": [],
   "source": [
    "!ariaDownload.py --track 4  --bbox \"36.75 37.225 -76.655 -75.928\"  -o count -m 59 -l 181 -v "
   ]
  },
  {
   "cell_type": "markdown",
   "metadata": {},
   "source": [
    "### Subsetting based on interferogram pair"
   ]
  },
  {
   "cell_type": "markdown",
   "metadata": {},
   "source": [
    "To find a specific interferogram combination one can use the **`--ifg YYYYMMDD_YYYYMMDD`** option."
   ]
  },
  {
   "cell_type": "code",
   "execution_count": null,
   "metadata": {},
   "outputs": [],
   "source": [
    "!ariaDownload.py -b \"36.75 37.225 -76.655 -75.928\"  -o count --ifg \"20161018_20160702\" -v "
   ]
  },
  {
   "cell_type": "code",
   "execution_count": 2,
   "metadata": {},
   "outputs": [
    {
     "name": "stdout",
     "output_type": "stream",
     "text": [
      "--2020-02-19 21:09:50--  https://aria-products.jpl.nasa.gov/search/dataset/grq_v2.0.2_s1-gunw-released/S1-GUNW-A-R-064-tops-20190710_20180703-015013-36885N_35006N-PP-9955-v2_0_2/S1-GUNW-A-R-064-tops-20190710_20180703-015013-36885N_35006N-PP-9955-v2_0_2.nc\n",
      "Resolving aria-products.jpl.nasa.gov (aria-products.jpl.nasa.gov)... 128.149.112.114\n",
      "Connecting to aria-products.jpl.nasa.gov (aria-products.jpl.nasa.gov)|128.149.112.114|:443... connected.\n",
      "HTTP request sent, awaiting response... 302 FOUND\n",
      "Location: http://aria-ops-dataset-bucket.s3-website-us-west-2.amazonaws.com/datasets/interferogram/v2.0.2/2019/07/10/S1-GUNW-A-R-064-tops-20190710_20180703-015013-36885N_35006N-PP-9955-v2_0_2/S1-GUNW-A-R-064-tops-20190710_20180703-015013-36885N_35006N-PP-9955-v2_0_2.nc [following]\n",
      "--2020-02-19 21:09:50--  http://aria-ops-dataset-bucket.s3-website-us-west-2.amazonaws.com/datasets/interferogram/v2.0.2/2019/07/10/S1-GUNW-A-R-064-tops-20190710_20180703-015013-36885N_35006N-PP-9955-v2_0_2/S1-GUNW-A-R-064-tops-20190710_20180703-015013-36885N_35006N-PP-9955-v2_0_2.nc\n",
      "Resolving aria-ops-dataset-bucket.s3-website-us-west-2.amazonaws.com (aria-ops-dataset-bucket.s3-website-us-west-2.amazonaws.com)... 52.218.216.19\n",
      "Connecting to aria-ops-dataset-bucket.s3-website-us-west-2.amazonaws.com (aria-ops-dataset-bucket.s3-website-us-west-2.amazonaws.com)|52.218.216.19|:80... connected.\n",
      "HTTP request sent, awaiting response... 200 OK\n",
      "Length: 64057031 (61M) [binary/octet-stream]\n",
      "Saving to: ‘S1-GUNW-A-R-064-tops-20190710_20180703-015013-36885N_35006N-PP-9955-v2_0_2.nc’\n",
      "\n",
      "S1-GUNW-A-R-064-top 100%[===================>]  61.09M  17.2MB/s    in 4.9s    \n",
      "\n",
      "2020-02-19 21:09:55 (12.6 MB/s) - ‘S1-GUNW-A-R-064-tops-20190710_20180703-015013-36885N_35006N-PP-9955-v2_0_2.nc’ saved [64057031/64057031]\n",
      "\n",
      "--2020-02-19 21:09:55--  https://aria-products.jpl.nasa.gov/search/dataset/grq_v2.0.2_s1-gunw-released/S1-GUNW-D-R-071-tops-20190728_20190622-135213-36450N_34472N-PP-b4b2-v2_0_2/S1-GUNW-D-R-071-tops-20190728_20190622-135213-36450N_34472N-PP-b4b2-v2_0_2.nc\n",
      "Resolving aria-products.jpl.nasa.gov (aria-products.jpl.nasa.gov)... 128.149.112.114\n",
      "Connecting to aria-products.jpl.nasa.gov (aria-products.jpl.nasa.gov)|128.149.112.114|:443... connected.\n",
      "HTTP request sent, awaiting response... 302 FOUND\n",
      "Location: http://aria-ops-dataset-bucket.s3-website-us-west-2.amazonaws.com/datasets/interferogram/v2.0.2/2019/07/28/S1-GUNW-D-R-071-tops-20190728_20190622-135213-36450N_34472N-PP-b4b2-v2_0_2/S1-GUNW-D-R-071-tops-20190728_20190622-135213-36450N_34472N-PP-b4b2-v2_0_2.nc [following]\n",
      "--2020-02-19 21:09:55--  http://aria-ops-dataset-bucket.s3-website-us-west-2.amazonaws.com/datasets/interferogram/v2.0.2/2019/07/28/S1-GUNW-D-R-071-tops-20190728_20190622-135213-36450N_34472N-PP-b4b2-v2_0_2/S1-GUNW-D-R-071-tops-20190728_20190622-135213-36450N_34472N-PP-b4b2-v2_0_2.nc\n",
      "Resolving aria-ops-dataset-bucket.s3-website-us-west-2.amazonaws.com (aria-ops-dataset-bucket.s3-website-us-west-2.amazonaws.com)... 52.218.216.19\n",
      "Connecting to aria-ops-dataset-bucket.s3-website-us-west-2.amazonaws.com (aria-ops-dataset-bucket.s3-website-us-west-2.amazonaws.com)|52.218.216.19|:80... connected.\n",
      "HTTP request sent, awaiting response... 200 OK\n",
      "Length: 60685379 (58M) [binary/octet-stream]\n",
      "Saving to: ‘S1-GUNW-D-R-071-tops-20190728_20190622-135213-36450N_34472N-PP-b4b2-v2_0_2.nc’\n",
      "\n",
      "S1-GUNW-D-R-071-top 100%[===================>]  57.87M  17.0MB/s    in 4.8s    \n",
      "\n",
      "2020-02-19 21:10:00 (12.2 MB/s) - ‘S1-GUNW-D-R-071-tops-20190728_20190622-135213-36450N_34472N-PP-b4b2-v2_0_2.nc’ saved [60685379/60685379]\n",
      "\n",
      "***Extract Product Function:***\n",
      "All (1) GUNW products meet spatial bbox criteria.\n",
      "Group GUNW products into spatiotemporally continuous interferograms.\n",
      "All (1) interferograms are spatially continuous.\n",
      "Thread count specified for gdal multiprocessing = 2\n",
      "Downloaded 3 arc-sec SRTM DEM here: ascending/DEM/SRTM_3arcsec.dem\n",
      "Generating: unwrappedPhase - [==================================================] 20190710_20180703STITCH Settings: Connected component approach\n",
      "Name: REDARC0\n",
      "Solver: pulp\n",
      "connFile NETCDF:\"/Users/dbekaert/Software/ARIA_tools/ARIA-tools-docs-clone/JupyterDocs/ariaPyrocko/S1-GUNW-A-R-064-tops-20190710_20180703-015013-36885N_35006N-PP-9955-v2_0_2.nc\":/science/grids/data/connectedComponents\n",
      "unwFile NETCDF:\"/Users/dbekaert/Software/ARIA_tools/ARIA-tools-docs-clone/JupyterDocs/ariaPyrocko/S1-GUNW-A-R-064-tops-20190710_20180703-015013-36885N_35006N-PP-9955-v2_0_2.nc\":/science/grids/data/unwrappedPhase\n",
      "connCompMapping [[ 0.  0.  0.  0.]\n",
      " [ 1.  1.  0.  0.]\n",
      " [ 2.  2.  0.  0.]\n",
      " [ 3.  3.  0.  0.]\n",
      " [ 4.  4.  0.  0.]\n",
      " [ 5.  5.  0.  0.]\n",
      " [ 6.  6.  0.  0.]\n",
      " [ 7.  7.  0.  0.]\n",
      " [ 8.  8.  0.  0.]\n",
      " [ 9.  9.  0.  0.]\n",
      " [10. 10.  0.  0.]\n",
      " [11. 11.  0.  0.]\n",
      " [12. 12.  0.  0.]\n",
      " [13. 13.  0.  0.]\n",
      " [14. 14.  0.  0.]\n",
      " [15. 15.  0.  0.]\n",
      " [16. 16.  0.  0.]\n",
      " [17. 17.  0.  0.]\n",
      " [18. 18.  0.  0.]\n",
      " [19. 19.  0.  0.]\n",
      " [20. 20.  0.  0.]]\n",
      "connIDMapping [ 0.  1.  2.  3.  4.  5.  6.  7.  8.  9. 10. 11. 12. 13. 14. 15. 16. 17.\n",
      " 18. 19. 20. -1.]\n",
      "intMapping [0. 0. 0. 0. 0. 0. 0. 0. 0. 0. 0. 0. 0. 0. 0. 0. 0. 0. 0. 0. 0. 0.]\n",
      "intShift [[0. 0. 0. ... 0. 0. 0.]\n",
      " [0. 0. 0. ... 0. 0. 0.]\n",
      " [0. 0. 0. ... 0. 0. 0.]\n",
      " ...\n",
      " [0. 0. 0. ... 0. 0. 0.]\n",
      " [0. 0. 0. ... 0. 0. 0.]\n",
      " [0. 0. 0. ... 0. 0. 0.]]\n",
      "ERROR 1: /Users/dbekaert/Software/ARIA_tools/ARIA-tools-docs-clone/JupyterDocs/ariaPyrocko/IntermediateFiles_63su6r3r/unw/Product_0_intShift.tif, band 1: Failed to compute min/max, no valid pixels found in sampling.\n",
      "Generating Connected Component polygons\n",
      "...Done, loading polygons\n",
      "outer valid\n",
      "outer valid\n",
      "inner valid\n",
      "inner valid\n",
      "inner valid\n",
      "inner valid\n",
      "modified inner\n",
      "inner valid\n",
      "inner valid\n",
      "outer valid\n",
      "...Done\n",
      "Multi-core\n",
      "DONE min distance points\n",
      "Multi-core\n",
      "DONE min distance points\n",
      "Multi-core\n",
      "DONE min distance points\n",
      "Calculating the phase values for 6 points\n",
      "runtime phase value calculation: 0.05619096755981445 sec\n",
      "Shifting coordinates by a pixel to make all points unique: iteration 1\n",
      "Coordinates are unique\n",
      "Using PuLP MIP solver\n",
      "Time Taken (in sec) to solve: 0.036193\n",
      "MAPPING complete:\n",
      "connFile /Users/dbekaert/Software/ARIA_tools/ARIA-tools-docs-clone/JupyterDocs/ariaPyrocko/ascending/connectedComponents/20190710_20180703_intermediate\n",
      "unwFile /Users/dbekaert/Software/ARIA_tools/ARIA-tools-docs-clone/JupyterDocs/ariaPyrocko/ascending/unwrappedPhase/20190710_20180703_intermediate.vrt\n",
      "connCompMapping [[ 0.  0.  0.  0.]\n",
      " [ 1.  1. -5.  0.]\n",
      " [ 2.  2. -4.  0.]\n",
      " [ 3.  3.  0.  0.]\n",
      " [ 4.  4.  0.  0.]\n",
      " [ 5.  5.  0.  0.]\n",
      " [ 6.  6.  0.  0.]\n",
      " [ 7.  7.  0.  0.]\n",
      " [ 8.  8.  0.  0.]\n",
      " [ 9.  9.  0.  0.]\n",
      " [10. 10.  0.  0.]\n",
      " [11. 11.  0.  0.]\n",
      " [12. 12.  0.  0.]\n",
      " [13. 13.  0.  0.]\n",
      " [14. 14.  0.  0.]\n",
      " [15. 15.  0.  0.]\n",
      " [16. 16.  0.  0.]\n",
      " [17. 17. -1.  0.]\n",
      " [18. 18.  0.  0.]\n",
      " [19. 19.  0.  0.]\n",
      " [20. 20.  0.  0.]]\n",
      "connIDMapping [ 0.  1.  2.  3.  4.  5.  6.  7.  8.  9. 10. 11. 12. 13. 14. 15. 16. 17.\n",
      " 18. 19. 20. -1.]\n",
      "intMapping [ 0. -5. -4.  0.  0.  0.  0.  0.  0.  0.  0.  0.  0.  0.  0.  0.  0. -1.\n",
      "  0.  0.  0.  0.]\n",
      "intShift [[0. 0. 0. ... 0. 0. 0.]\n",
      " [0. 0. 0. ... 0. 0. 0.]\n",
      " [0. 0. 0. ... 0. 0. 0.]\n",
      " ...\n",
      " [0. 0. 0. ... 0. 0. 0.]\n",
      " [0. 0. 0. ... 0. 0. 0.]\n",
      " [0. 0. 0. ... 0. 0. 0.]]\n",
      " \n",
      "Generating: incidenceAngle - [==================================================] 20190710_20180703 \n",
      "Generating: azimuthAngle - [==================================================] 20190710_20180703 \n",
      "***Extract Product Function:***\n",
      "All (1) GUNW products meet spatial bbox criteria.\n",
      "Group GUNW products into spatiotemporally continuous interferograms.\n",
      "All (1) interferograms are spatially continuous.\n",
      "Thread count specified for gdal multiprocessing = 2\n",
      "Downloaded 3 arc-sec SRTM DEM here: descending/DEM/SRTM_3arcsec.dem\n",
      "Generating: unwrappedPhase - [==================================================] 20190728_20190622STITCH Settings: Connected component approach\n",
      "Name: REDARC0\n",
      "Solver: pulp\n",
      "connFile NETCDF:\"/Users/dbekaert/Software/ARIA_tools/ARIA-tools-docs-clone/JupyterDocs/ariaPyrocko/S1-GUNW-D-R-071-tops-20190728_20190622-135213-36450N_34472N-PP-b4b2-v2_0_2.nc\":/science/grids/data/connectedComponents\n",
      "unwFile NETCDF:\"/Users/dbekaert/Software/ARIA_tools/ARIA-tools-docs-clone/JupyterDocs/ariaPyrocko/S1-GUNW-D-R-071-tops-20190728_20190622-135213-36450N_34472N-PP-b4b2-v2_0_2.nc\":/science/grids/data/unwrappedPhase\n"
     ]
    },
    {
     "name": "stdout",
     "output_type": "stream",
     "text": [
      "connCompMapping [[ 0.  0.  0.  0.]\n",
      " [ 1.  1.  0.  0.]\n",
      " [ 2.  2.  0.  0.]\n",
      " [ 3.  3.  0.  0.]\n",
      " [ 4.  4.  0.  0.]\n",
      " [ 5.  5.  0.  0.]\n",
      " [ 6.  6.  0.  0.]\n",
      " [ 7.  7.  0.  0.]\n",
      " [ 8.  8.  0.  0.]\n",
      " [ 9.  9.  0.  0.]\n",
      " [10. 10.  0.  0.]\n",
      " [11. 11.  0.  0.]\n",
      " [12. 12.  0.  0.]\n",
      " [13. 13.  0.  0.]\n",
      " [14. 14.  0.  0.]\n",
      " [15. 15.  0.  0.]\n",
      " [16. 16.  0.  0.]\n",
      " [17. 17.  0.  0.]\n",
      " [18. 18.  0.  0.]\n",
      " [19. 19.  0.  0.]\n",
      " [20. 20.  0.  0.]]\n",
      "connIDMapping [ 0.  1.  2.  3.  4.  5.  6.  7.  8.  9. 10. 11. 12. 13. 14. 15. 16. 17.\n",
      " 18. 19. 20. -1.]\n",
      "intMapping [0. 0. 0. 0. 0. 0. 0. 0. 0. 0. 0. 0. 0. 0. 0. 0. 0. 0. 0. 0. 0. 0.]\n",
      "intShift [[0. 0. 0. ... 0. 0. 0.]\n",
      " [0. 0. 0. ... 0. 0. 0.]\n",
      " [0. 0. 0. ... 0. 0. 0.]\n",
      " ...\n",
      " [0. 0. 0. ... 0. 0. 0.]\n",
      " [0. 0. 0. ... 0. 0. 0.]\n",
      " [0. 0. 0. ... 0. 0. 0.]]\n",
      "ERROR 1: /Users/dbekaert/Software/ARIA_tools/ARIA-tools-docs-clone/JupyterDocs/ariaPyrocko/IntermediateFiles_a2jdpuvt/unw/Product_0_intShift.tif, band 1: Failed to compute min/max, no valid pixels found in sampling.\n",
      "Generating Connected Component polygons\n",
      "...Done, loading polygons\n",
      "outer valid\n",
      "inner valid\n",
      "...Done\n",
      "Traceback (most recent call last):\n",
      "  File \"/Users/dbekaert/Software/python/miniconda37/envs/ARIA-tools_latest/bin/ariaExtract.py\", line 16, in <module>\n",
      "    main(inps)\n",
      "  File \"/Users/dbekaert/Software/python/miniconda37/envs/ARIA-tools_latest/lib/python3.7/site-packages/ARIAtools/extractProduct.py\", line 728, in main\n",
      "    export_products(standardproduct_info.products[1], standardproduct_info.bbox_file, prods_TOTbbox, inps.layers, dem=demfile, lat=Latitude, lon=Longitude, mask=inps.mask, outDir=inps.workdir, outputFormat=inps.outputFormat, stitchMethodType=inps.stitchMethodType, verbose=inps.verbose, num_threads=inps.num_threads)\n",
      "  File \"/Users/dbekaert/Software/python/miniconda37/envs/ARIA-tools_latest/lib/python3.7/site-packages/ARIAtools/extractProduct.py\", line 414, in export_products\n",
      "    product_stitch_2stage(unw_files,conn_files,prod_bbox_files,bounds,prods_TOTbbox, outFileUnw=outFileUnw,outFileConnComp= outFileConnComp,mask=mask,outputFormat = outputFormat,verbose=verbose)\n",
      "  File \"/Users/dbekaert/Software/python/miniconda37/envs/ARIA-tools_latest/lib/python3.7/site-packages/ARIAtools/unwrapStitching.py\", line 1913, in product_stitch_2stage\n",
      "    unw.unwrapComponents()\n",
      "  File \"/Users/dbekaert/Software/python/miniconda37/envs/ARIA-tools_latest/lib/python3.7/site-packages/ARIAtools/unwrapStitching.py\", line 568, in unwrapComponents\n",
      "    self.__populatePointTablenew__()\n",
      "  File \"/Users/dbekaert/Software/python/miniconda37/envs/ARIA-tools_latest/lib/python3.7/site-packages/ARIAtools/unwrapStitching.py\", line 633, in __populatePointTablenew__\n",
      "    raise Exception(\"Nothing to do as all are from same connected component\")\n",
      "Exception: Nothing to do as all are from same connected component\n",
      "\n",
      "CommandNotFoundError: Your shell has not been properly configured to use 'conda activate'.\n",
      "To initialize your shell, run\n",
      "\n",
      "    $ conda init <SHELL_NAME>\n",
      "\n",
      "Currently supported shells are:\n",
      "  - bash\n",
      "  - fish\n",
      "  - tcsh\n",
      "  - xonsh\n",
      "  - zsh\n",
      "  - powershell\n",
      "\n",
      "See 'conda init --help' for more information and options.\n",
      "\n",
      "IMPORTANT: You may need to close and restart your shell after running 'conda init'.\n",
      "\n",
      "\n",
      "/bin/sh: spool: command not found\n"
     ]
    }
   ],
   "source": [
    "!wget https://aria-products.jpl.nasa.gov/search/dataset/grq_v2.0.2_s1-gunw-released/S1-GUNW-A-R-064-tops-20190710_20180703-015013-36885N_35006N-PP-9955-v2_0_2/S1-GUNW-A-R-064-tops-20190710_20180703-015013-36885N_35006N-PP-9955-v2_0_2.nc\n",
    "\n",
    "# Descending\n",
    "!wget https://aria-products.jpl.nasa.gov/search/dataset/grq_v2.0.2_s1-gunw-released/S1-GUNW-D-R-071-tops-20190728_20190622-135213-36450N_34472N-PP-b4b2-v2_0_2/S1-GUNW-D-R-071-tops-20190728_20190622-135213-36450N_34472N-PP-b4b2-v2_0_2.nc\n",
    "    \n",
    "    \n",
    "\n",
    "\n"
   ]
  },
  {
   "cell_type": "code",
   "execution_count": 9,
   "metadata": {},
   "outputs": [
    {
     "name": "stdout",
     "output_type": "stream",
     "text": [
      "***Extract Product Function:***\n",
      "All (1) GUNW products meet spatial bbox criteria.\n",
      "Group GUNW products into spatiotemporally continuous interferograms.\n",
      "All (1) interferograms are spatially continuous.\n",
      "Thread count specified for gdal multiprocessing = 2\n",
      "Downloaded 3 arc-sec SRTM DEM here: ascending/DEM/SRTM_3arcsec.dem\n",
      "Generating: unwrappedPhase - [==================================================] 20190710_20180703 \n",
      "Generating: incidenceAngle - [==================================================] 20190710_20180703 \n",
      "Generating: azimuthAngle - [==================================================] 20190710_20180703 \n",
      "Generating: lookAngle - [==================================================] 20190710_20180703 \n",
      "***Extract Product Function:***\n",
      "All (1) GUNW products meet spatial bbox criteria.\n",
      "Group GUNW products into spatiotemporally continuous interferograms.\n",
      "All (1) interferograms are spatially continuous.\n",
      "Thread count specified for gdal multiprocessing = 2\n",
      "Downloaded 3 arc-sec SRTM DEM here: descending/DEM/SRTM_3arcsec.dem\n",
      "Generating: unwrappedPhase - [==================================================] 20190728_20190622 \n",
      "Generating: incidenceAngle - [==================================================] 20190728_20190622 \n",
      "Generating: azimuthAngle - [==================================================] 20190728_20190622 \n",
      "Generating: lookAngle - [==================================================] 20190728_20190622 \n"
     ]
    }
   ],
   "source": [
    "# Extract into ascending/\n",
    "!ariaExtract.py -w ascending -f S1-GUNW-A-R-064-tops-20190710_20180703-015013-36885N_35006N-PP-9955-v2_0_2.nc -d download -l unwrappedPhase,incidenceAngle,azimuthAngle,lookAngle -sm overlap\n",
    "\n",
    "# Extract into descending/\n",
    "!ariaExtract.py -w descending -f S1-GUNW-D-R-071-tops-20190728_20190622-135213-36450N_34472N-PP-b4b2-v2_0_2.nc  -d download -l unwrappedPhase,incidenceAngle,azimuthAngle,lookAngle -sm overlap\n",
    "\n"
   ]
  },
  {
   "cell_type": "code",
   "execution_count": 10,
   "metadata": {},
   "outputs": [
    {
     "name": "stdout",
     "output_type": "stream",
     "text": [
      "/Users/dbekaert/Software/ARIA_tools/ARIA-tools-docs-clone/JupyterDocs/ariaPyrocko\r\n"
     ]
    }
   ],
   "source": [
    "!pwd"
   ]
  },
  {
   "cell_type": "code",
   "execution_count": 6,
   "metadata": {},
   "outputs": [
    {
     "name": "stdout",
     "output_type": "stream",
     "text": [
      "no change     /Users/dbekaert/Software/python/miniconda37/condabin/conda\n",
      "no change     /Users/dbekaert/Software/python/miniconda37/bin/conda\n",
      "no change     /Users/dbekaert/Software/python/miniconda37/bin/conda-env\n",
      "no change     /Users/dbekaert/Software/python/miniconda37/bin/activate\n",
      "no change     /Users/dbekaert/Software/python/miniconda37/bin/deactivate\n",
      "no change     /Users/dbekaert/Software/python/miniconda37/etc/profile.d/conda.sh\n",
      "no change     /Users/dbekaert/Software/python/miniconda37/etc/fish/conf.d/conda.fish\n",
      "no change     /Users/dbekaert/Software/python/miniconda37/shell/condabin/Conda.psm1\n",
      "no change     /Users/dbekaert/Software/python/miniconda37/shell/condabin/conda-hook.ps1\n",
      "no change     /Users/dbekaert/Software/python/miniconda37/lib/python3.7/site-packages/xonsh/conda.xsh\n",
      "no change     /Users/dbekaert/Software/python/miniconda37/etc/profile.d/conda.csh\n",
      "no change     /Users/dbekaert/.bash_profile\n",
      "No action taken.\n",
      "\n",
      "CommandNotFoundError: Your shell has not been properly configured to use 'conda activate'.\n",
      "To initialize your shell, run\n",
      "\n",
      "    $ conda init <SHELL_NAME>\n",
      "\n",
      "Currently supported shells are:\n",
      "  - bash\n",
      "  - fish\n",
      "  - tcsh\n",
      "  - xonsh\n",
      "  - zsh\n",
      "  - powershell\n",
      "\n",
      "See 'conda init --help' for more information and options.\n",
      "\n",
      "IMPORTANT: You may need to close and restart your shell after running 'conda init'.\n",
      "\n",
      "\n",
      "/bin/sh: spool: command not found\n"
     ]
    }
   ],
   "source": [
    "\n",
    "# now load the data\n",
    "###scene.load\n",
    "###scene.import_data\n",
    "!conda init bash\n",
    "!source activate ARIA-tools_latest\n",
    "\n",
    "!conda activate kite\n",
    "!spool --load ascending"
   ]
  },
  {
   "cell_type": "code",
   "execution_count": null,
   "metadata": {},
   "outputs": [],
   "source": [
    "from kite import Scene\n",
    "\n",
    "# Import Matlab container to kite\n",
    "scene = Scene.import_file('ascending')\n",
    "scene.spool()  # start the GUI for data inspection and Quadtree parametrisation\n"
   ]
  }
 ],
 "metadata": {
  "kernelspec": {
   "display_name": "Python 3",
   "language": "python",
   "name": "python3"
  },
  "language_info": {
   "codemirror_mode": {
    "name": "ipython",
    "version": 3
   },
   "file_extension": ".py",
   "mimetype": "text/x-python",
   "name": "python",
   "nbconvert_exporter": "python",
   "pygments_lexer": "ipython3",
   "version": "3.7.3"
  },
  "latex_envs": {
   "LaTeX_envs_menu_present": true,
   "autoclose": false,
   "autocomplete": false,
   "bibliofile": "biblio.bib",
   "cite_by": "apalike",
   "current_citInitial": 1,
   "eqLabelWithNumbers": true,
   "eqNumInitial": 1,
   "hotkeys": {
    "equation": "Ctrl-E",
    "itemize": "Ctrl-I"
   },
   "labels_anchors": false,
   "latex_user_defs": false,
   "report_style_numbering": false,
   "user_envs_cfg": false
  },
  "toc": {
   "base_numbering": 1,
   "nav_menu": {},
   "number_sections": true,
   "sideBar": true,
   "skip_h1_title": false,
   "title_cell": "Table of Contents",
   "title_sidebar": "Contents",
   "toc_cell": false,
   "toc_position": {},
   "toc_section_display": true,
   "toc_window_display": false
  }
 },
 "nbformat": 4,
 "nbformat_minor": 2
}
