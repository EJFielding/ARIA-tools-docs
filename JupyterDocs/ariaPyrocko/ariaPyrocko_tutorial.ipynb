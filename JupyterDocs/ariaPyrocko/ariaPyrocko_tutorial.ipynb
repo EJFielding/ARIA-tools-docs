{
 "cells": [
  {
   "cell_type": "markdown",
   "metadata": {},
   "source": [
    "# Coseismic modelling with Pyrocko using ARIA products\n",
    "\n",
    "**Author**: David Bekaert - Jet Propulsion Laboratory, \n",
    "            Marius Isken - Geoforschungszentrum Potsdam \n",
    "\n",
    "This notebook demonstrates how ARIA Geocoded UNWrapped interferogram (**GUNW**) products can be used for geophysical modelling using the [**Pyrocko**](https://pyrocko.org) package. We will demonstrate data download and manipulation using ARIA-tools, data downsampling and covariance estimation using the Pyrocko [**Kite**](https://pyrocko.org/kite/docs/current/index.html) application, and a non-linear optimisation of a finite rectangular fault plane using the Pyrocko [**Grond**](https://pyrocko.org/grond/docs/current/) application, applied to coseismic InSAR and GNSS displacements measured for the 2019 Ridgecrest Earthquake. \n",
    "\n",
    "\n",
    "**Pyrocko** is a geophysical modelling package for geodetic and sesimological data. It includes various downsampling methods and covariance estimation for InSAR data, and supports joint inversion modelling of InSAR and GNSS observations in a Bayesian framework using the Grond. A full description can be found on the [Pyrocko website](https://pyrocko.org). \n",
    "\n",
    "A detailed overview of the ARIA GUNW product with respect to processing, formatting, sampling, and data layers can be found on the [ARIA website](https://aria.jpl.nasa.gov/node/97). \n",
    "\n",
    "\n",
    "\n",
    "\n",
    "<div class=\"alert alert-warning\">\n",
    "<b>Potential errors:</b>\n",
    "Both Pyrocko and ARIA-tools needs to be installed to run this notebook.\n",
    "</div>\n",
    "\n",
    "<div class=\"alert alert-danger\">\n",
    "<b>Download</b>:     \n",
    "    \n",
    "- The ***jupyter notebook* does not allow for interactive entering of your user-name and password, use the *jupyter terminal* instead** with the same command for interactive use.\n",
    "</div>"
   ]
  },
  {
   "cell_type": "markdown",
   "metadata": {},
   "source": [
    "## Download the data"
   ]
  },
  {
   "cell_type": "markdown",
   "metadata": {},
   "source": [
    "In this notebook we will invert for fault slip as a result from the ridgecrest earthquake sequence, consisting of a Mw 6.4 earthquake that occured on July 4th, 2019, which was followed by a Mw 7.1 earthquake on  July 6th, 2019.\n",
    "\n",
    "ARIA provides unwrapped and geocoded interferograms as GUNW products. Multiple coseismic interferograms with different temporal baselines spanning the ridgecrest sequence are avialble in the public archive. For this tutorial, we have pre-identified one interferometric pair for the ascending track 64 (spanning 20190710 to 20180703) and the descending track 71 (spanning 20190728 to 20190622)\n",
    "\n",
    "<img src=\"support_docs/Ridgecrest.png\" alt=\"region\" width=\"500\">\n",
    "<blockquote><b>Fig. 1</b> Shakemap of the RM 7.1 - 2019 Ridgecrest Earthquake Sequence, with in red and magenta the outline of respectively the ascending and descending GUNW products that will be used in this tutorial. </blockquote>"
   ]
  },
  {
   "cell_type": "markdown",
   "metadata": {},
   "source": [
    "### ARIA GUNW products"
   ]
  },
  {
   "cell_type": "markdown",
   "metadata": {},
   "source": [
    "The GUNW product is an InSAR surface displacement product derived from Sentinel-1 SAR data and packaged as netCDF4 files. GUNW products contain both data and meta-data layers such as the interferometric amplitude, filtered unwrapped phase, filtered coherence, connected components, perpendicular and parallel baselines, incidence, azimuth and look angles. A detailed overview of the ARIA GUNW product with respect to processing, formatting, sampling, and data layers can be found on the [ARIA website](https://aria.jpl.nasa.gov/node/97)."
   ]
  },
  {
   "cell_type": "markdown",
   "metadata": {},
   "source": [
    "### Download options"
   ]
  },
  {
   "cell_type": "markdown",
   "metadata": {},
   "source": [
    "GUNW products are hosted at the ASF DAAC and can be downloaded from the [ARIA-products page](https://aria-products.jpl.nasa.gov) and as beta products from the [ASF DAAC data search page](https://search.asf.alaska.edu/#/). If you know the GUNW filename of the product, you can also build a download link by appending the GUNW filename to **https://<i></i>grfn.asf.alaska.edu<i></i>/door/download/** . \n",
    "\n",
    "Alternatively, you can use the **`ariaDownload.py`** program provided within the ARIA-tools package to download data using a command-line interface. This program wraps around the ASF DAAC API and allows for search sub-setting of GUNW products based on track number, geometry (ascending or descending), as well as spatial and temporal bounding boxes criteria. For a full description of the **`ariaDownload.py`** program, see the [ariaDownload Tutorial](https://github.com/aria-tools/ARIA-tools-docs/blob/master/JupyterDocs/ariaDownload/ariaDownload_tutorial.ipynb).\n",
    "\n",
    "<div class=\"alert alert-warning\">\n",
    "<b>Potential download failure:</b> \n",
    "GUNW products are hosted at the NASA ASF DAAC. Downloading them requires a NASA Earthdata URS user login and requires users to add “ARIA Product Search” to their URS approved applications\n",
    "</div>\n",
    "\n",
    "\n",
    "Below we will use **`ariaDownload.py`** to download the pre-identified GUNW products on ascending track 64 and the descending track 71.We use the **`--track`** option to specify the track number, the  **`--ifg YYYYMMDD_YYYYMMDD`** option to specifiy the interferogram combination, and the **`--bbox`** option as **SNWE** coordinates (a string with quotation) to specify the location\n",
    "\n",
    "\n",
    "<div class=\"alert alert-danger\">\n",
    "<b>Download</b>:     \n",
    "    \n",
    "- The ***jupyter notebook* does not allow for interactive entering of your user-name and password, use the *jupyter terminal* instead** with the same command for interactive use.\n",
    "</div>"
   ]
  },
  {
   "cell_type": "code",
   "execution_count": 9,
   "metadata": {},
   "outputs": [
    {
     "name": "stdout",
     "output_type": "stream",
     "text": [
      "https://api.daac.asf.alaska.edu/services/search/param?asfplatform=Sentinel-1%20Interferogram%20(BETA)&output=JSON&relativeOrbit=64&bbox=-117.670897,35.622456,-117.670897,35.622456\n",
      "Found: S1-GUNW-A-R-064-tops-20190710_20180703-015013-36885N_35006N-PP-9955-v2_0_2\n",
      " > attempting to download https://urs.earthdata.nasa.gov/profile\n",
      " > Could not validate old cookie Jar\n",
      "No existing URS cookie found, please enter Earthdata username & password:\n",
      "(Credentials will not be stored, saved or logged anywhere)\n",
      " > attempting to download https://urs.earthdata.nasa.gov/profile\n",
      "Username: ^C\n",
      "Traceback (most recent call last):\n",
      "  File \"/Users/dbekaert/Software/ARIA_tools/ARIA-tools-docs-clone/JupyterDocs/ariaPyrocko/ascending/ASFDataDload.py\", line 232, in get_new_cookie\n",
      "    new_username = raw_input(\"Username: \")\n",
      "NameError: name 'raw_input' is not defined\n",
      "\n",
      "During handling of the above exception, another exception occurred:\n",
      "\n",
      "Traceback (most recent call last):\n",
      "  File \"/Users/dbekaert/Software/python/miniconda37/envs/ariatools_kite/bin/ariaDownload.py\", line 180, in <module>\n",
      "    Downloader(inps)()\n",
      "  File \"/Users/dbekaert/Software/python/miniconda37/envs/ariatools_kite/bin/ariaDownload.py\", line 88, in __call__\n",
      "    downloader = AD.bulk_downloader()\n",
      "  File \"/Users/dbekaert/Software/ARIA_tools/ARIA-tools-docs-clone/JupyterDocs/ariaPyrocko/ascending/ASFDataDload.py\", line 137, in __init__\n",
      "    self.get_cookie()\n",
      "  File \"/Users/dbekaert/Software/ARIA_tools/ARIA-tools-docs-clone/JupyterDocs/ariaPyrocko/ascending/ASFDataDload.py\", line 167, in get_cookie\n",
      "    self.get_new_cookie()\n",
      "  File \"/Users/dbekaert/Software/ARIA_tools/ARIA-tools-docs-clone/JupyterDocs/ariaPyrocko/ascending/ASFDataDload.py\", line 234, in get_new_cookie\n",
      "    new_username = input(\"Username: \")\n",
      "KeyboardInterrupt\n",
      "https://api.daac.asf.alaska.edu/services/search/param?asfplatform=Sentinel-1%20Interferogram%20(BETA)&output=JSON&relativeOrbit=71&bbox=-117.670897,35.622456,-117.670897,35.622456\n",
      "^C\n",
      "Traceback (most recent call last):\n",
      "  File \"/Users/dbekaert/Software/python/miniconda37/envs/ARIA-tools_latest/lib/python3.7/site-packages/urllib3/connectionpool.py\", line 379, in _make_request\n",
      "    httplib_response = conn.getresponse(buffering=True)\n",
      "TypeError: getresponse() got an unexpected keyword argument 'buffering'\n",
      "\n",
      "During handling of the above exception, another exception occurred:\n",
      "\n",
      "Traceback (most recent call last):\n",
      "  File \"/Users/dbekaert/Software/python/miniconda37/envs/ariatools_kite/bin/ariaDownload.py\", line 180, in <module>\n",
      "    Downloader(inps)()\n",
      "  File \"/Users/dbekaert/Software/python/miniconda37/envs/ariatools_kite/bin/ariaDownload.py\", line 65, in __call__\n",
      "    dict_prod = self.parse_json(url)\n",
      "  File \"/Users/dbekaert/Software/python/miniconda37/envs/ariatools_kite/bin/ariaDownload.py\", line 111, in parse_json\n",
      "    j        = json.loads(requests.get(url).text)[0]\n",
      "  File \"/Users/dbekaert/Software/python/miniconda37/envs/ARIA-tools_latest/lib/python3.7/site-packages/requests/api.py\", line 75, in get\n",
      "    return request('get', url, params=params, **kwargs)\n",
      "  File \"/Users/dbekaert/Software/python/miniconda37/envs/ARIA-tools_latest/lib/python3.7/site-packages/requests/api.py\", line 60, in request\n",
      "    return session.request(method=method, url=url, **kwargs)\n",
      "  File \"/Users/dbekaert/Software/python/miniconda37/envs/ARIA-tools_latest/lib/python3.7/site-packages/requests/sessions.py\", line 533, in request\n",
      "    resp = self.send(prep, **send_kwargs)\n",
      "  File \"/Users/dbekaert/Software/python/miniconda37/envs/ARIA-tools_latest/lib/python3.7/site-packages/requests/sessions.py\", line 646, in send\n",
      "    r = adapter.send(request, **kwargs)\n",
      "  File \"/Users/dbekaert/Software/python/miniconda37/envs/ARIA-tools_latest/lib/python3.7/site-packages/requests/adapters.py\", line 449, in send\n",
      "    timeout=timeout\n",
      "  File \"/Users/dbekaert/Software/python/miniconda37/envs/ARIA-tools_latest/lib/python3.7/site-packages/urllib3/connectionpool.py\", line 603, in urlopen\n",
      "    chunked=chunked)\n",
      "  File \"/Users/dbekaert/Software/python/miniconda37/envs/ARIA-tools_latest/lib/python3.7/site-packages/urllib3/connectionpool.py\", line 383, in _make_request\n",
      "    httplib_response = conn.getresponse()\n",
      "  File \"/Users/dbekaert/Software/python/miniconda37/envs/ARIA-tools_latest/lib/python3.7/http/client.py\", line 1321, in getresponse\n",
      "    response.begin()\n",
      "  File \"/Users/dbekaert/Software/python/miniconda37/envs/ARIA-tools_latest/lib/python3.7/http/client.py\", line 296, in begin\n",
      "    version, status, reason = self._read_status()\n",
      "  File \"/Users/dbekaert/Software/python/miniconda37/envs/ARIA-tools_latest/lib/python3.7/http/client.py\", line 257, in _read_status\n",
      "    line = str(self.fp.readline(_MAXLINE + 1), \"iso-8859-1\")\n",
      "  File \"/Users/dbekaert/Software/python/miniconda37/envs/ARIA-tools_latest/lib/python3.7/socket.py\", line 589, in readinto\n",
      "    return self._sock.recv_into(b)\n",
      "  File \"/Users/dbekaert/Software/python/miniconda37/envs/ARIA-tools_latest/lib/python3.7/site-packages/urllib3/contrib/pyopenssl.py\", line 304, in recv_into\n",
      "    return self.connection.recv_into(*args, **kwargs)\n",
      "  File \"/Users/dbekaert/Software/python/miniconda37/envs/ARIA-tools_latest/lib/python3.7/site-packages/OpenSSL/SSL.py\", line 1821, in recv_into\n",
      "    result = _lib.SSL_read(self._ssl, buf, nbytes)\n",
      "KeyboardInterrupt\n"
     ]
    }
   ],
   "source": [
    "!ariaDownload.py  --track 64  --bbox \" 35.622456  35.622456 -117.670897 -117.670897\"   --ifg \"20190710_20180703\" -v \n",
    "!ariaDownload.py  --track 71  --bbox \" 35.622456  35.622456 -117.670897 -117.670897\"  --ifg \"20190728_20190622\" -v "
   ]
  },
  {
   "cell_type": "markdown",
   "metadata": {},
   "source": [
    "We can now have a look at the downloaded products:"
   ]
  },
  {
   "cell_type": "code",
   "execution_count": 10,
   "metadata": {},
   "outputs": [
    {
     "name": "stdout",
     "output_type": "stream",
     "text": [
      "ASFDataDload.py          \u001b[34mconnectedComponents\u001b[m\u001b[m      \u001b[34mproductBoundingBox\u001b[m\u001b[m\n",
      "\u001b[34mDEM\u001b[m\u001b[m                      download_products_64.kmz \u001b[34munwrappedPhase\u001b[m\u001b[m\n",
      "\u001b[34m__pycache__\u001b[m\u001b[m              \u001b[34mincidenceAngle\u001b[m\u001b[m\n",
      "\u001b[34mazimuthAngle\u001b[m\u001b[m             \u001b[34mlookAngle\u001b[m\u001b[m\n",
      "\u001b[34mDEM\u001b[m\u001b[m                      download_products_71.kmz \u001b[34mproductBoundingBox\u001b[m\u001b[m\n",
      "\u001b[34mazimuthAngle\u001b[m\u001b[m             \u001b[34mincidenceAngle\u001b[m\u001b[m           \u001b[34munwrappedPhase\u001b[m\u001b[m\n",
      "\u001b[34mconnectedComponents\u001b[m\u001b[m      \u001b[34mlookAngle\u001b[m\u001b[m\n"
     ]
    }
   ],
   "source": [
    "!ls products"
   ]
  },
  {
   "cell_type": "markdown",
   "metadata": {},
   "source": [
    "See [aria-website](https://aria.jpl.nasa.gov/node/97) for a complete overview of the filename convention. Based on the filenames, do you have an idea which product is for the ascending and descending tracks?"
   ]
  },
  {
   "cell_type": "markdown",
   "metadata": {},
   "source": [
    "## Data preparation "
   ]
  },
  {
   "cell_type": "markdown",
   "metadata": {},
   "source": [
    "Now that the data has been downloaded we will prepare it for processing in the **Grond** application. Pyrocko is compatible with the output from **ARIA-tools** and can load the product using the **Kite** application. "
   ]
  },
  {
   "cell_type": "markdown",
   "metadata": {},
   "source": [
    "### Extracting data and meta-data layers"
   ]
  },
  {
   "cell_type": "markdown",
   "metadata": {},
   "source": [
    "Pyrocko is compatible with the output from ARIA-tools, but requires an *unwrappedPhase, incidenceAngle, azimuthAngle, and lookAngle* file. These layers can be easily extracted leveraing the ariaExtract.py program. For a detailed overview see "
   ]
  },
  {
   "cell_type": "code",
   "execution_count": null,
   "metadata": {},
   "outputs": [],
   "source": [
    "# Extract into ascending/\n",
    "!ariaExtract.py -w ascending -f S1-GUNW-A-R-064-tops-20190710_20180703-015013-36885N_35006N-PP-9955-v2_0_2.nc -d download -l unwrappedPhase,incidenceAngle,azimuthAngle,lookAngle -sm overlap\n",
    "\n",
    "# Extract into descending/\n",
    "!ariaExtract.py -w descending -f S1-GUNW-D-R-071-tops-20190728_20190622-135213-36450N_34472N-PP-b4b2-v2_0_2.nc  -d download -l unwrappedPhase,incidenceAngle,azimuthAngle,lookAngle -sm overlap"
   ]
  },
  {
   "cell_type": "code",
   "execution_count": null,
   "metadata": {},
   "outputs": [],
   "source": [
    "### Downsamling and covariance "
   ]
  },
  {
   "cell_type": "code",
   "execution_count": null,
   "metadata": {},
   "outputs": [],
   "source": [
    "Two steps are needed. First we will be using ARIA-tools to extract the required data and meta-data layers. The output of this will be geo-referenced files compatible GDAL and thus most GIS packages. **Grond** itself is expecting the data in a specific format. "
   ]
  },
  {
   "cell_type": "code",
   "execution_count": 6,
   "metadata": {},
   "outputs": [
    {
     "name": "stdout",
     "output_type": "stream",
     "text": [
      "no change     /Users/dbekaert/Software/python/miniconda37/condabin/conda\n",
      "no change     /Users/dbekaert/Software/python/miniconda37/bin/conda\n",
      "no change     /Users/dbekaert/Software/python/miniconda37/bin/conda-env\n",
      "no change     /Users/dbekaert/Software/python/miniconda37/bin/activate\n",
      "no change     /Users/dbekaert/Software/python/miniconda37/bin/deactivate\n",
      "no change     /Users/dbekaert/Software/python/miniconda37/etc/profile.d/conda.sh\n",
      "no change     /Users/dbekaert/Software/python/miniconda37/etc/fish/conf.d/conda.fish\n",
      "no change     /Users/dbekaert/Software/python/miniconda37/shell/condabin/Conda.psm1\n",
      "no change     /Users/dbekaert/Software/python/miniconda37/shell/condabin/conda-hook.ps1\n",
      "no change     /Users/dbekaert/Software/python/miniconda37/lib/python3.7/site-packages/xonsh/conda.xsh\n",
      "no change     /Users/dbekaert/Software/python/miniconda37/etc/profile.d/conda.csh\n",
      "no change     /Users/dbekaert/.bash_profile\n",
      "No action taken.\n",
      "\n",
      "CommandNotFoundError: Your shell has not been properly configured to use 'conda activate'.\n",
      "To initialize your shell, run\n",
      "\n",
      "    $ conda init <SHELL_NAME>\n",
      "\n",
      "Currently supported shells are:\n",
      "  - bash\n",
      "  - fish\n",
      "  - tcsh\n",
      "  - xonsh\n",
      "  - zsh\n",
      "  - powershell\n",
      "\n",
      "See 'conda init --help' for more information and options.\n",
      "\n",
      "IMPORTANT: You may need to close and restart your shell after running 'conda init'.\n",
      "\n",
      "\n",
      "/bin/sh: spool: command not found\n"
     ]
    }
   ],
   "source": [
    "\n",
    "# now load the data\n",
    "###scene.load\n",
    "###scene.import_data\n",
    "!conda init bash\n",
    "!source activate ARIA-tools_latest\n",
    "\n",
    "!conda activate kite\n",
    "!spool --load ascending"
   ]
  },
  {
   "cell_type": "code",
   "execution_count": 1,
   "metadata": {},
   "outputs": [
    {
     "ename": "ValueError",
     "evalue": "too many values to unpack (expected 2)",
     "output_type": "error",
     "traceback": [
      "\u001b[0;31m---------------------------------------------------------------------------\u001b[0m",
      "\u001b[0;31mValueError\u001b[0m                                Traceback (most recent call last)",
      "\u001b[0;32m<ipython-input-1-f5345d3da5ab>\u001b[0m in \u001b[0;36m<module>\u001b[0;34m\u001b[0m\n\u001b[1;32m      2\u001b[0m \u001b[0;34m\u001b[0m\u001b[0m\n\u001b[1;32m      3\u001b[0m \u001b[0;31m# Import Matlab container to kite\u001b[0m\u001b[0;34m\u001b[0m\u001b[0;34m\u001b[0m\u001b[0;34m\u001b[0m\u001b[0m\n\u001b[0;32m----> 4\u001b[0;31m \u001b[0mscene\u001b[0m \u001b[0;34m=\u001b[0m \u001b[0mScene\u001b[0m\u001b[0;34m.\u001b[0m\u001b[0mimport_data\u001b[0m\u001b[0;34m(\u001b[0m\u001b[0;34m'descending'\u001b[0m\u001b[0;34m)\u001b[0m\u001b[0;34m\u001b[0m\u001b[0;34m\u001b[0m\u001b[0m\n\u001b[0m\u001b[1;32m      5\u001b[0m \u001b[0mscene\u001b[0m\u001b[0;34m.\u001b[0m\u001b[0mspool\u001b[0m\u001b[0;34m(\u001b[0m\u001b[0;34m)\u001b[0m  \u001b[0;31m# start the GUI for data inspection and Quadtree parametrisation\u001b[0m\u001b[0;34m\u001b[0m\u001b[0;34m\u001b[0m\u001b[0m\n",
      "\u001b[0;32m~/Software/python/miniconda37/envs/ariatools_kite/lib/python3.7/site-packages/kite-1.3.0-py3.7-macosx-10.9-x86_64.egg/kite/scene.py\u001b[0m in \u001b[0;36mdynclassmethod\u001b[0;34m(*args, **kwargs)\u001b[0m\n\u001b[1;32m    429\u001b[0m             \u001b[0;32mreturn\u001b[0m \u001b[0mfunc\u001b[0m\u001b[0;34m(\u001b[0m\u001b[0;34m*\u001b[0m\u001b[0margs\u001b[0m\u001b[0;34m,\u001b[0m \u001b[0;34m**\u001b[0m\u001b[0mkwargs\u001b[0m\u001b[0;34m)\u001b[0m\u001b[0;34m\u001b[0m\u001b[0;34m\u001b[0m\u001b[0m\n\u001b[1;32m    430\u001b[0m         \u001b[0;32melse\u001b[0m\u001b[0;34m:\u001b[0m\u001b[0;34m\u001b[0m\u001b[0;34m\u001b[0m\u001b[0m\n\u001b[0;32m--> 431\u001b[0;31m             \u001b[0;32mreturn\u001b[0m \u001b[0mfunc\u001b[0m\u001b[0;34m(\u001b[0m\u001b[0mScene\u001b[0m\u001b[0;34m(\u001b[0m\u001b[0;34m)\u001b[0m\u001b[0;34m,\u001b[0m \u001b[0;34m*\u001b[0m\u001b[0margs\u001b[0m\u001b[0;34m,\u001b[0m \u001b[0;34m**\u001b[0m\u001b[0mkwargs\u001b[0m\u001b[0;34m)\u001b[0m\u001b[0;34m\u001b[0m\u001b[0;34m\u001b[0m\u001b[0m\n\u001b[0m\u001b[1;32m    432\u001b[0m \u001b[0;34m\u001b[0m\u001b[0m\n\u001b[1;32m    433\u001b[0m     \u001b[0mdynclassmethod\u001b[0m\u001b[0;34m.\u001b[0m\u001b[0m__doc__\u001b[0m \u001b[0;34m=\u001b[0m \u001b[0mfunc\u001b[0m\u001b[0;34m.\u001b[0m\u001b[0m__doc__\u001b[0m\u001b[0;34m\u001b[0m\u001b[0;34m\u001b[0m\u001b[0m\n",
      "\u001b[0;32m~/Software/python/miniconda37/envs/ariatools_kite/lib/python3.7/site-packages/kite-1.3.0-py3.7-macosx-10.9-x86_64.egg/kite/scene.py\u001b[0m in \u001b[0;36m_import_data\u001b[0;34m(self, path, **kwargs)\u001b[0m\n\u001b[1;32m    902\u001b[0m                 scene._log.debug('Importing %s using %s module' %\n\u001b[1;32m    903\u001b[0m                                  (path, mod_name))\n\u001b[0;32m--> 904\u001b[0;31m                 \u001b[0mdata\u001b[0m \u001b[0;34m=\u001b[0m \u001b[0mmodule\u001b[0m\u001b[0;34m.\u001b[0m\u001b[0mread\u001b[0m\u001b[0;34m(\u001b[0m\u001b[0mpath\u001b[0m\u001b[0;34m,\u001b[0m \u001b[0;34m**\u001b[0m\u001b[0mkwargs\u001b[0m\u001b[0;34m)\u001b[0m\u001b[0;34m\u001b[0m\u001b[0;34m\u001b[0m\u001b[0m\n\u001b[0m\u001b[1;32m    905\u001b[0m                 \u001b[0;32mbreak\u001b[0m\u001b[0;34m\u001b[0m\u001b[0;34m\u001b[0m\u001b[0m\n\u001b[1;32m    906\u001b[0m         \u001b[0;32mif\u001b[0m \u001b[0mdata\u001b[0m \u001b[0;32mis\u001b[0m \u001b[0;32mNone\u001b[0m\u001b[0;34m:\u001b[0m\u001b[0;34m\u001b[0m\u001b[0;34m\u001b[0m\u001b[0m\n",
      "\u001b[0;32m~/Software/python/miniconda37/envs/ariatools_kite/lib/python3.7/site-packages/kite-1.3.0-py3.7-macosx-10.9-x86_64.egg/kite/scene_io.py\u001b[0m in \u001b[0;36mread\u001b[0;34m(self, folder, **kwargs)\u001b[0m\n\u001b[1;32m   1128\u001b[0m         \u001b[0mc\u001b[0m\u001b[0;34m.\u001b[0m\u001b[0mmeta\u001b[0m\u001b[0;34m.\u001b[0m\u001b[0mscene_title\u001b[0m \u001b[0;34m=\u001b[0m \u001b[0mc\u001b[0m\u001b[0;34m.\u001b[0m\u001b[0mmeta\u001b[0m\u001b[0;34m.\u001b[0m\u001b[0mscene_id\u001b[0m\u001b[0;34m\u001b[0m\u001b[0;34m\u001b[0m\u001b[0m\n\u001b[1;32m   1129\u001b[0m \u001b[0;34m\u001b[0m\u001b[0m\n\u001b[0;32m-> 1130\u001b[0;31m         \u001b[0mt_slave\u001b[0m\u001b[0;34m,\u001b[0m \u001b[0mt_master\u001b[0m \u001b[0;34m=\u001b[0m \u001b[0mc\u001b[0m\u001b[0;34m.\u001b[0m\u001b[0mmeta\u001b[0m\u001b[0;34m.\u001b[0m\u001b[0mscene_id\u001b[0m\u001b[0;34m.\u001b[0m\u001b[0msplit\u001b[0m\u001b[0;34m(\u001b[0m\u001b[0;34m'_'\u001b[0m\u001b[0;34m)\u001b[0m\u001b[0;34m\u001b[0m\u001b[0;34m\u001b[0m\u001b[0m\n\u001b[0m\u001b[1;32m   1131\u001b[0m         \u001b[0mc\u001b[0m\u001b[0;34m.\u001b[0m\u001b[0mmeta\u001b[0m\u001b[0;34m.\u001b[0m\u001b[0mtime_master\u001b[0m \u001b[0;34m=\u001b[0m \u001b[0mdatetime\u001b[0m\u001b[0;34m(\u001b[0m\u001b[0;34m*\u001b[0m\u001b[0mtime\u001b[0m\u001b[0;34m.\u001b[0m\u001b[0mstrptime\u001b[0m\u001b[0;34m(\u001b[0m\u001b[0mt_master\u001b[0m\u001b[0;34m,\u001b[0m \u001b[0;34m'%Y%m%d'\u001b[0m\u001b[0;34m)\u001b[0m\u001b[0;34m[\u001b[0m\u001b[0;34m:\u001b[0m\u001b[0;36m6\u001b[0m\u001b[0;34m]\u001b[0m\u001b[0;34m)\u001b[0m\u001b[0;31m \u001b[0m\u001b[0;31m\\\u001b[0m\u001b[0;34m\u001b[0m\u001b[0;34m\u001b[0m\u001b[0m\n\u001b[1;32m   1132\u001b[0m             \u001b[0;34m.\u001b[0m\u001b[0mtimestamp\u001b[0m\u001b[0;34m(\u001b[0m\u001b[0;34m)\u001b[0m\u001b[0;34m\u001b[0m\u001b[0;34m\u001b[0m\u001b[0m\n",
      "\u001b[0;31mValueError\u001b[0m: too many values to unpack (expected 2)"
     ]
    }
   ],
   "source": [
    "from kite import Scene\n",
    "\n",
    "# Import Matlab container to kite\n",
    "scene = Scene.import_data('descending')\n",
    "scene.spool()  # start the GUI for data inspection and Quadtree parametrisation\n"
   ]
  },
  {
   "cell_type": "code",
   "execution_count": 3,
   "metadata": {},
   "outputs": [
    {
     "name": "stdout",
     "output_type": "stream",
     "text": [
      "\u001b[34mIntermediateFiles_2d3tfgkd\u001b[m\u001b[m\r\n",
      "\u001b[34mIntermediateFiles_63su6r3r\u001b[m\u001b[m\r\n",
      "\u001b[34mIntermediateFiles_a2jdpuvt\u001b[m\u001b[m\r\n",
      "\u001b[34mIntermediateFiles_pld8fxez\u001b[m\u001b[m\r\n",
      "S1-GUNW-A-R-064-tops-20190710_20180703-015013-36885N_35006N-PP-9955-v2_0_2.nc\r\n",
      "S1-GUNW-D-R-071-tops-20190728_20190622-135213-36450N_34472N-PP-b4b2-v2_0_2.nc\r\n",
      "ariaPyrocko_tutorial.ipynb\r\n",
      "\u001b[34mascending\u001b[m\u001b[m\r\n",
      "\u001b[34mdescending\u001b[m\u001b[m\r\n",
      "\u001b[34msupport_docs\u001b[m\u001b[m\r\n"
     ]
    }
   ],
   "source": [
    "!ls"
   ]
  },
  {
   "cell_type": "code",
   "execution_count": null,
   "metadata": {},
   "outputs": [],
   "source": [
    "##Green’s function download"
   ]
  },
  {
   "cell_type": "code",
   "execution_count": null,
   "metadata": {},
   "outputs": [],
   "source": [
    "We will be using Greens fucntions to invert the surface displacement for slip at depth. Greens functions \n",
    "\n",
    "To download the pre-calculated Green’s functions needed in this exercise, go into you new grond project folder grond-joint-geodetic and run"
   ]
  }
 ],
 "metadata": {
  "kernelspec": {
   "display_name": "Python 3",
   "language": "python",
   "name": "python3"
  },
  "language_info": {
   "codemirror_mode": {
    "name": "ipython",
    "version": 3
   },
   "file_extension": ".py",
   "mimetype": "text/x-python",
   "name": "python",
   "nbconvert_exporter": "python",
   "pygments_lexer": "ipython3",
   "version": "3.8.2"
  },
  "latex_envs": {
   "LaTeX_envs_menu_present": true,
   "autoclose": false,
   "autocomplete": false,
   "bibliofile": "biblio.bib",
   "cite_by": "apalike",
   "current_citInitial": 1,
   "eqLabelWithNumbers": true,
   "eqNumInitial": 1,
   "hotkeys": {
    "equation": "Ctrl-E",
    "itemize": "Ctrl-I"
   },
   "labels_anchors": false,
   "latex_user_defs": false,
   "report_style_numbering": false,
   "user_envs_cfg": false
  },
  "toc": {
   "base_numbering": 1,
   "nav_menu": {},
   "number_sections": true,
   "sideBar": true,
   "skip_h1_title": false,
   "title_cell": "Table of Contents",
   "title_sidebar": "Contents",
   "toc_cell": false,
   "toc_position": {},
   "toc_section_display": true,
   "toc_window_display": false
  }
 },
 "nbformat": 4,
 "nbformat_minor": 2
}
